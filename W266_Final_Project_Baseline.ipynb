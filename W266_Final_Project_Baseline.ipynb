{
 "cells": [
  {
   "cell_type": "markdown",
   "metadata": {},
   "source": [
    "# W266 Final Project Baseline"
   ]
  },
  {
   "cell_type": "code",
   "execution_count": 11,
   "metadata": {
    "collapsed": false
   },
   "outputs": [],
   "source": [
    "# Import libraries.\n",
    "import re\n",
    "import numpy as np\n",
    "import json\n",
    "import pandas as pd\n",
    "import sys\n",
    "from sklearn.naive_bayes import MultinomialNB\n",
    "from sklearn.feature_extraction.text import CountVectorizer\n",
    "from sklearn import metrics"
   ]
  },
  {
   "cell_type": "code",
   "execution_count": 2,
   "metadata": {
    "collapsed": false
   },
   "outputs": [],
   "source": [
    "# Load the data\n",
    "csv_file = 'data/yelp_academic_dataset_review.csv'\n",
    "review_data = pd.read_csv(csv_file)"
   ]
  },
  {
   "cell_type": "code",
   "execution_count": 12,
   "metadata": {
    "collapsed": false
   },
   "outputs": [
    {
     "name": "stdout",
     "output_type": "stream",
     "text": [
      "The dataset contains 2685066 reviews.\n",
      "The dataset columns:\n",
      "Index([u'user_id', u'review_id', u'text', u'votes.cool', u'business_id',\n",
      "       u'votes.funny', u'stars', u'date', u'type', u'votes.useful'],\n",
      "      dtype='object')\n"
     ]
    }
   ],
   "source": [
    "review_count = len(review_data.index)\n",
    "print 'The dataset contains %d reviews.' % review_count\n",
    "print 'The dataset columns:'\n",
    "print review_data.columns"
   ]
  },
  {
   "cell_type": "code",
   "execution_count": 4,
   "metadata": {
    "collapsed": false
   },
   "outputs": [
    {
     "name": "stdout",
     "output_type": "stream",
     "text": [
      "The training dataset contains 1790044 review.\n",
      "The test dataset contains 895022 review.\n",
      "Mr Hoagie is an institution. Walking in, it does seem like a throwback to 30 years ago, old fashioned menu board, booths out of the 70s, and a large selection of food. Their speciality is the Italian Hoagie, and it is voted the best in the area year after year. I usually order the burger, while the patties are obviously cooked from frozen, all of the other ingredients are very fresh. Overall, its a good alternative to Subway, which is down the road. 4\n"
     ]
    }
   ],
   "source": [
    "# Create training dataset and test dataset\n",
    "\n",
    "reviews = review_data['text'].tolist()\n",
    "stars = review_data['stars'].tolist()\n",
    "test_data, test_labels = reviews[:review_count/3], stars[:review_count/3]\n",
    "train_data, train_labels = reviews[review_count/3:], stars[review_count/3:]\n",
    "print 'The training dataset contains %d review.' %(len(train_data))\n",
    "print 'The test dataset contains %d review.' %(len(test_data))\n",
    "#print train_data[0], train_labels[0]\n",
    "print test_data[0], test_labels[0]"
   ]
  },
  {
   "cell_type": "code",
   "execution_count": 13,
   "metadata": {
    "collapsed": false
   },
   "outputs": [
    {
     "name": "stdout",
     "output_type": "stream",
     "text": [
      "The mini training dataset contains 895022 samples.\n",
      "The dev dataset contains 895022 samples.\n",
      "A requirement of my job as a retail manager is to renew my State of Nevada Health Card and Alcohol Awareness handling card every four years. The first thing I want to bring up is that there is a MAJOR difference between the Southern Nevada Health District office (SNHD) in Henderson and the Alcohol Awareness Training office off Sunset Road in Henderson. Where the SNHD gave me the IMPRESSION of being both an inconvenient tax and  socialism in the shadow of the Las Vegas Strip, spending time in the Alcohol Awareness Training class was enjoyable. Thanks to our trainer Steve which I will yelp about soon. \n",
      "\n",
      " A major advantage of this Alcohol Awareness Training office is that it is by Sunrise Coffee. I am the type of person that strives to get to an appointment or Yelp event early. So, having Sunrise Coffee a few steps away was nice. I parked my car, relaxed with a cup of coffee and when it was near the time of the class, I had the awareness that I needed to walk a few feet. Unlike alcohol which you'll be spending hours learning about, caffeine is a stimulant that keeps you awake for hours. Regardless that Steve is an enthusiastic instructor, the caffeine that kept me awake was appreciated. \n",
      "\n",
      "  Now a major disadvantage of the Alcohol Awareness Training classes are that they are only held on weekdays at 10 am and 2 pm. Online courses are available. However, you will hear to go there in person to complete the process of your picture card and payment. And by the way, plastic is no longer an acceptable payment option here. \n",
      "\n",
      "  My first impression of this office is that the staff working here are real. As soon as I walked in instantly the friendly woman in the office greeted me. Next I was filling out the simple paperwork. There are zero piles of paperwork to fill out here. Plus there is no condescending blockheads that populated the staff at the SNHD. Here they went out of their way to help you where at the SNHD they treated you as an escape goat for their miserable attitude. \n",
      "\n",
      "  When I filled out my paperwork it was in the only classroom. This is a relatively small business in a small Sunset Road shopping center that is across from Sunset Park. I occupied one of ten bridge tables and twenty seats. I was never isolated from the outside world. The plate glass windows overlooked the drive thru action at Sunrise Coffee. In front of me was a TV playing a movie. On the walls around me were motion picture posters. But in back of me was an outlet to charge my phone between the paperwork and picture taking. \n",
      "\n",
      "  The second part of the experience is smiling for the camera in front of the American flag. This is the You that you will see for four years on your Alcohol Awareness card.\n",
      "\n",
      "  Our instructor Steve is the epitomy of an outstanding instructor. He is resourceful and entertaining. Ironically he is the type of guy I would like to to drink alcohol with. Moreover he is the type of guy I like as an instructor. He interspersed jokes before and between critical talking points. An example is, \"I have to do pictures. I'll do a group shot to get it over with.\" When he brought up the increase in the City OF Las Vegas ticketing businesses, after that talking point he joked, \"I think they have to raise money for the soccer stadium.\" This is my second time at this office, and Steve has made alcohol Awareness enjoyable. In comparison when I attended the TAM class on Sahara it was Zzzz.\n",
      "\n",
      "  After so many reviews written from experiences at bars it was a learning experience taking in the information about alcohol. I never knew that it affects the small intestine more than the liver or that it affects you right away. Or that it puts your brain cells to sleep. The information this class taught me made my brain cells wide awake. \n",
      "\n",
      "  Steve leads the class through videos and reading materials. It is usually a four hour class. What Steve wants you to be especially aware of is carding customers, knowing when to stop serving a drunk customer, and the general fundamentals of the law applying to serving alcohol. Steve also brought up the increase in enforcement of alcohol handling laws. The number of citations is serious with four Southern Nevada police departments handing out around 1,000 tickets in a month. Plus, tickets for employees failing to have an Alcohol Awareness card on them coats $500. This is $480 over and above the $20 fee for the class. \n",
      "\n",
      "  When all is said and done, my Alcohol Awareness Training card is good for four more years. This means I will not be a Duke here. However say if my card was lost or stolen, Steve stated that they will replace it at no charge. I conclude this review with a shout out to Steve. Hopefully if I am accepted into the Clark County School District ARL program, Steve will be the role model of the teacher that I would strive to be. If I don't get accepted their is a chance I will be seeing Steve in four years. 4\n"
     ]
    }
   ],
   "source": [
    "# Split training dataset to dev dataset and mini-train dataset\n",
    "\n",
    "train_count = len(train_data)\n",
    "dev_data, dev_labels = train_data[train_count/2:], train_labels[train_count/2:]\n",
    "mini_train_data, mini_train_labels = train_data[:train_count/2], train_labels[:train_count/2]\n",
    "\n",
    "print 'The mini training dataset contains %d samples.' %(len(mini_train_labels))\n",
    "print 'The dev dataset contains %d samples.' %(len(dev_labels)) \n",
    "\n",
    "print mini_train_data[0], mini_train_labels[0]"
   ]
  },
  {
   "cell_type": "code",
   "execution_count": 14,
   "metadata": {
    "collapsed": false
   },
   "outputs": [
    {
     "name": "stdout",
     "output_type": "stream",
     "text": [
      "Word Vectorizer - MultinomialNB\n",
      "Word vocabulary size: 263843\n",
      "Best alpha:  1.6\n"
     ]
    }
   ],
   "source": [
    "# Train the MultinomialNB model and get the best alpha value.\n",
    "\n",
    "print 'Word Vectorizer - MultinomialNB'\n",
    "word_vectorizer = CountVectorizer()  #define and fit the model\n",
    "vect_mini_train = word_vectorizer.fit_transform(mini_train_data)\n",
    "vect_dev = word_vectorizer.transform(dev_data)\n",
    "print 'Word vocabulary size:',vect_mini_train.shape[1]  #display word vocabulary size\n",
    "\n",
    "a = 0.0\n",
    "best_f1 = 0\n",
    "best_alpha = 0\n",
    "while a <= 2.0:\n",
    "    mnb = MultinomialNB(alpha = a)\n",
    "    mnb.fit(vect_mini_train, mini_train_labels)\n",
    "    preds = mnb.predict(vect_dev)\n",
    "    f1_score = metrics.f1_score(dev_labels, preds, average='weighted')\n",
    "    if f1_score > best_f1:\n",
    "        best_f1 = f1_score\n",
    "        best_alpha = a\n",
    "    a += 0.1\n",
    "\n",
    "print 'Best alpha: ', best_alpha\n"
   ]
  },
  {
   "cell_type": "code",
   "execution_count": 15,
   "metadata": {
    "collapsed": true
   },
   "outputs": [],
   "source": [
    "# Train with all training dataset.\n",
    "\n",
    "word_vectorizer = CountVectorizer()\n",
    "vect_train = word_vectorizer.fit_transform(train_data)\n",
    "vect_test = word_vectorizer.transform(test_data)\n",
    "\n",
    "mnb = MultinomialNB(alpha = 1.6)\n",
    "mnb.fit(vect_train, train_labels)\n",
    "\n",
    "# Predict stars of test reveiws\n",
    "preds = mnb.predict(vect_test)\n",
    "pred_prob = mnb.predict_proba(vect_test)"
   ]
  },
  {
   "cell_type": "code",
   "execution_count": 18,
   "metadata": {
    "collapsed": false
   },
   "outputs": [
    {
     "name": "stdout",
     "output_type": "stream",
     "text": [
      "Accuracy: 0.568\n",
      "F1 score: 0.564\n"
     ]
    }
   ],
   "source": [
    "f1 = metrics.f1_score(test_labels, preds, average='weighted')\n",
    "accuracy = metrics.accuracy_score(test_labels, preds)\n",
    "print \"Accuracy: %.03f\" % accuracy\n",
    "print \"F1 score: %.03f\" % f1"
   ]
  },
  {
   "cell_type": "code",
   "execution_count": null,
   "metadata": {
    "collapsed": true
   },
   "outputs": [],
   "source": []
  }
 ],
 "metadata": {
  "kernelspec": {
   "display_name": "Python [Root]",
   "language": "python",
   "name": "Python [Root]"
  },
  "language_info": {
   "codemirror_mode": {
    "name": "ipython",
    "version": 2
   },
   "file_extension": ".py",
   "mimetype": "text/x-python",
   "name": "python",
   "nbconvert_exporter": "python",
   "pygments_lexer": "ipython2",
   "version": "2.7.12"
  }
 },
 "nbformat": 4,
 "nbformat_minor": 0
}
